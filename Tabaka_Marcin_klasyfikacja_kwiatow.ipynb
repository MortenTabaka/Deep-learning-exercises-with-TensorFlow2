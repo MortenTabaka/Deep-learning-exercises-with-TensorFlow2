{
 "cells": [
  {
   "cell_type": "code",
   "execution_count": 1,
   "id": "dedc8414",
   "metadata": {},
   "outputs": [
    {
     "data": {
      "text/plain": [
       "'2.5.0'"
      ]
     },
     "execution_count": 1,
     "metadata": {},
     "output_type": "execute_result"
    }
   ],
   "source": [
    "import os\n",
    "import shutil\n",
    "import glob\n",
    "from PIL import Image\n",
    "\n",
    "import matplotlib.pyplot as plt\n",
    "%matplotlib inline\n",
    "\n",
    "import splitfolders\n",
    "\n",
    "import tensorflow as tf\n",
    "\n",
    "tf.__version__"
   ]
  },
  {
   "cell_type": "markdown",
   "id": "69a05048",
   "metadata": {},
   "source": [
    "# Split data"
   ]
  },
  {
   "cell_type": "code",
   "execution_count": 6,
   "id": "aa174ab3",
   "metadata": {},
   "outputs": [],
   "source": [
    "should_prepare_data = False"
   ]
  },
  {
   "cell_type": "code",
   "execution_count": 3,
   "id": "d862a4b2",
   "metadata": {},
   "outputs": [],
   "source": [
    "def prepare_data():\n",
    "    \n",
    "    dirpaths = []\n",
    "    class_names = []\n",
    "    \n",
    "    # generate list with roots for folders\n",
    "    for dirpath, folder, _ in os.walk('./data/flowers/'):\n",
    "        dirpaths.append(dirpath)\n",
    "        class_names.append(folder)\n",
    "    \n",
    "    class_names = class_names[0]\n",
    "        \n",
    "    j = 0\n",
    "    \n",
    "    # loop through roots of image folders\n",
    "    for dirpath in dirpaths[1:]:\n",
    "\n",
    "        dst_dir = './data/input_flowers'\n",
    "\n",
    "        if not os.path.exists(dst_dir):\n",
    "            os.mkdir(dst_dir)\n",
    "\n",
    "        i = 1  # no. of image\n",
    "\n",
    "        for jpg_file in glob.iglob(os.path.join(dirpath, '*.jpg')):\n",
    "\n",
    "            img_path = os.path.join(dst_dir, class_names[j])\n",
    "\n",
    "            if not os.path.exists(img_path):\n",
    "                os.mkdir(img_path)\n",
    "\n",
    "            new_name = f'{class_names[j]}/{j}_{i}.jpg'\n",
    "\n",
    "            shutil.copy(jpg_file, os.path.join(dst_dir, new_name))\n",
    "\n",
    "            i += 1\n",
    "\n",
    "        j += 1\n",
    "\n",
    "    # split images to train/val/test folders\n",
    "    splitfolders.ratio('./data/input_flowers', output='./data/output_flowers', seed=1337, ratio=(.7, .15, .15))\n",
    "    \n",
    "    return class_names"
   ]
  },
  {
   "cell_type": "code",
   "execution_count": 4,
   "id": "f3ff98d8",
   "metadata": {},
   "outputs": [
    {
     "name": "stderr",
     "output_type": "stream",
     "text": [
      "Copying files: 4317 files [00:00, 7304.88 files/s]\n"
     ]
    }
   ],
   "source": [
    "if should_prepare_data:\n",
    "    class_names = prepare_data()"
   ]
  },
  {
   "cell_type": "code",
   "execution_count": 5,
   "id": "94b280df",
   "metadata": {},
   "outputs": [
    {
     "data": {
      "text/plain": [
       "['tulip', 'rose', 'dandelion', 'sunflower', 'daisy']"
      ]
     },
     "execution_count": 5,
     "metadata": {},
     "output_type": "execute_result"
    }
   ],
   "source": [
    "class_names"
   ]
  },
  {
   "cell_type": "code",
   "execution_count": null,
   "id": "85781494",
   "metadata": {},
   "outputs": [],
   "source": []
  }
 ],
 "metadata": {
  "kernelspec": {
   "display_name": "Tensorflow GPU (Python 3.7)",
   "language": "python",
   "name": "tensorflow"
  },
  "language_info": {
   "codemirror_mode": {
    "name": "ipython",
    "version": 3
   },
   "file_extension": ".py",
   "mimetype": "text/x-python",
   "name": "python",
   "nbconvert_exporter": "python",
   "pygments_lexer": "ipython3",
   "version": "3.8.10"
  }
 },
 "nbformat": 4,
 "nbformat_minor": 5
}
